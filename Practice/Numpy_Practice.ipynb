{
  "cells": [
    {
      "cell_type": "markdown",
      "metadata": {
        "id": "FgXaHXB2ACsz"
      },
      "source": [
        "# NumPy Practice\n",
        "\n",
        "This notebook offers a set of exercises for different tasks with NumPy.\n",
        "\n",
        "It should be noted there may be more than one different way to answer a question or complete an exercise.\n",
        "\n",
        "Exercises are based off (and directly taken from) the quick introduction to NumPy notebook.\n",
        "\n",
        "Different tasks will be detailed by comments or text.\n",
        "\n",
        "For further reference and resources, it's advised to check out the [NumPy documentation](https://numpy.org/devdocs/user/index.html).\n",
        "\n",
        "And if you get stuck, try searching for a question in the following format: \"how to do XYZ with numpy\", where XYZ is the function you want to leverage from NumPy."
      ]
    },
    {
      "cell_type": "code",
      "execution_count": null,
      "metadata": {
        "id": "XsOXKIEaACs5"
      },
      "outputs": [],
      "source": [
        "# Import NumPy as its abbreviation 'np'\n",
        "import numpy as np"
      ]
    },
    {
      "cell_type": "code",
      "execution_count": null,
      "metadata": {
        "id": "GMk1F0dpACs7"
      },
      "outputs": [],
      "source": [
        "# Create a 1-dimensional NumPy array using np.array()\n",
        "arr1 = np.array([1,2,3,4])\n",
        "\n",
        "# Create a 2-dimensional NumPy array using np.array()\n",
        "arr2 = np.array([[1,2,3,4],[5,6,7,8]])\n",
        "\n",
        "# Create a 3-dimensional Numpy array using np.array()\n",
        "arr3 = np.array([[[1,2,3],[4,5,6]],[[7,8,9],[10,11,12]]])"
      ]
    },
    {
      "cell_type": "markdown",
      "metadata": {
        "id": "7p8hJRNbACs8"
      },
      "source": [
        "Now we've you've created 3 different arrays, let's find details about them.\n",
        "\n",
        "Find the shape, number of dimensions, data type, size and type of each array."
      ]
    },
    {
      "cell_type": "code",
      "execution_count": null,
      "metadata": {
        "id": "GBn9X0nBACs9",
        "colab": {
          "base_uri": "https://localhost:8080/"
        },
        "outputId": "4f584309-825e-4f16-afa4-7b89fc227978"
      },
      "outputs": [
        {
          "output_type": "stream",
          "name": "stdout",
          "text": [
            "Shape = (4,) \n",
            "Dimension = 1 \n",
            "Data Type = int64 \n",
            "Size = 4 \n",
            "Type = <class 'numpy.ndarray'>\n"
          ]
        }
      ],
      "source": [
        "# Attributes of 1-dimensional array (shape,\n",
        "# number of dimensions, data type, size and type)\n",
        "print(\"Shape =\",arr1.shape,\"\\nDimension =\",arr1.ndim,\"\\nData Type =\",arr1.dtype,\"\\nSize =\",arr1.size,\"\\nType =\",type(arr1))\n"
      ]
    },
    {
      "cell_type": "code",
      "execution_count": null,
      "metadata": {
        "id": "90KOlEP8ACs9",
        "colab": {
          "base_uri": "https://localhost:8080/"
        },
        "outputId": "0b5268ac-ccdd-4b2d-aae7-2dcb396af21f"
      },
      "outputs": [
        {
          "output_type": "stream",
          "name": "stdout",
          "text": [
            "Shape = (2, 4) \n",
            "Dimension = 2 \n",
            "Data Type = int64 \n",
            "Size = 8 \n",
            "Type = <class 'numpy.ndarray'>\n"
          ]
        }
      ],
      "source": [
        "# Attributes of 2-dimensional array\n",
        "print(\"Shape =\",arr2.shape,\"\\nDimension =\",arr2.ndim,\"\\nData Type =\",arr2.dtype,\"\\nSize =\",arr2.size,\"\\nType =\",type(arr2))"
      ]
    },
    {
      "cell_type": "code",
      "execution_count": null,
      "metadata": {
        "id": "J5r4gLtHACs-",
        "colab": {
          "base_uri": "https://localhost:8080/"
        },
        "outputId": "16f9c6bb-b3d4-4e76-d0aa-659fd4e5bf64"
      },
      "outputs": [
        {
          "output_type": "stream",
          "name": "stdout",
          "text": [
            "Shape = (2, 2, 3) \n",
            "Dimension = 3 \n",
            "Data Type = int64 \n",
            "Size = 12 \n",
            "Type = <class 'numpy.ndarray'>\n"
          ]
        }
      ],
      "source": [
        "# Attributes of 3-dimensional array\n",
        "print(\"Shape =\",arr3.shape,\"\\nDimension =\",arr3.ndim,\"\\nData Type =\",arr3.dtype,\"\\nSize =\",arr3.size,\"\\nType =\",type(arr3))"
      ]
    },
    {
      "cell_type": "code",
      "execution_count": null,
      "metadata": {
        "id": "yllB33ZJACs-"
      },
      "outputs": [],
      "source": [
        "# Import pandas and create a DataFrame out of one\n",
        "# of the arrays you've created\n",
        "import pandas as pd\n",
        "df = pd.DataFrame(arr2)"
      ]
    },
    {
      "cell_type": "code",
      "execution_count": null,
      "metadata": {
        "id": "7nA_mF0KACs_",
        "colab": {
          "base_uri": "https://localhost:8080/"
        },
        "outputId": "868862fe-9bdc-4f3b-a9f1-025d2516949c"
      },
      "outputs": [
        {
          "output_type": "execute_result",
          "data": {
            "text/plain": [
              "array([[1., 1.],\n",
              "       [1., 1.],\n",
              "       [1., 1.],\n",
              "       [1., 1.],\n",
              "       [1., 1.],\n",
              "       [1., 1.],\n",
              "       [1., 1.],\n",
              "       [1., 1.],\n",
              "       [1., 1.],\n",
              "       [1., 1.]])"
            ]
          },
          "metadata": {},
          "execution_count": 7
        }
      ],
      "source": [
        "# Create an array of shape (10, 2) with only ones\n",
        "arrone = np.ones((10,2))\n",
        "arrone"
      ]
    },
    {
      "cell_type": "code",
      "execution_count": null,
      "metadata": {
        "id": "PXmSuiXIACtA",
        "colab": {
          "base_uri": "https://localhost:8080/"
        },
        "outputId": "225bb3b9-8ca4-43c5-ab0b-d49504430c63"
      },
      "outputs": [
        {
          "output_type": "execute_result",
          "data": {
            "text/plain": [
              "array([[[0., 0., 0.],\n",
              "        [0., 0., 0.]],\n",
              "\n",
              "       [[0., 0., 0.],\n",
              "        [0., 0., 0.]],\n",
              "\n",
              "       [[0., 0., 0.],\n",
              "        [0., 0., 0.]],\n",
              "\n",
              "       [[0., 0., 0.],\n",
              "        [0., 0., 0.]],\n",
              "\n",
              "       [[0., 0., 0.],\n",
              "        [0., 0., 0.]],\n",
              "\n",
              "       [[0., 0., 0.],\n",
              "        [0., 0., 0.]],\n",
              "\n",
              "       [[0., 0., 0.],\n",
              "        [0., 0., 0.]]])"
            ]
          },
          "metadata": {},
          "execution_count": 8
        }
      ],
      "source": [
        "# Create an array of shape (7, 2, 3) of only zeros\n",
        "arrzero = np.zeros((7,2,3))\n",
        "arrzero"
      ]
    },
    {
      "cell_type": "code",
      "execution_count": null,
      "metadata": {
        "id": "1USNlEqDACtA",
        "colab": {
          "base_uri": "https://localhost:8080/"
        },
        "outputId": "c320cee6-b7b3-4a02-fa81-598c39b5d549"
      },
      "outputs": [
        {
          "output_type": "execute_result",
          "data": {
            "text/plain": [
              "array([ 0,  3,  6,  9, 12, 15, 18, 21, 24, 27, 30, 33, 36, 39, 42, 45, 48,\n",
              "       51, 54, 57, 60, 63, 66, 69, 72, 75, 78, 81, 84, 87, 90, 93, 96, 99])"
            ]
          },
          "metadata": {},
          "execution_count": 9
        }
      ],
      "source": [
        "# Create an array within a range of 0 and 100 with step 3\n",
        "arrnum = np.arange(start = 0, stop = 100, step = 3)\n",
        "arrnum"
      ]
    },
    {
      "cell_type": "code",
      "execution_count": null,
      "metadata": {
        "id": "Gy_sxEtmACtA",
        "colab": {
          "base_uri": "https://localhost:8080/"
        },
        "outputId": "cd369f7c-a3c6-49ac-c764-6f849c7f0926"
      },
      "outputs": [
        {
          "output_type": "execute_result",
          "data": {
            "text/plain": [
              "array([[1.2244581 , 7.46845439],\n",
              "       [5.62620365, 9.94613696],\n",
              "       [4.03629913, 1.59618037],\n",
              "       [4.88684617, 7.12572349],\n",
              "       [8.56893061, 8.18836994],\n",
              "       [6.99353313, 3.49549629],\n",
              "       [3.00056218, 9.85217578]])"
            ]
          },
          "metadata": {},
          "execution_count": 10
        }
      ],
      "source": [
        "# Create a random array with numbers between 0 and 10 of size (7, 2)\n",
        "arrrand1 = np.random.uniform(0,10,(7,2))\n",
        "arrrand1"
      ]
    },
    {
      "cell_type": "code",
      "execution_count": null,
      "metadata": {
        "id": "HgFVWiS4ACtB",
        "colab": {
          "base_uri": "https://localhost:8080/"
        },
        "outputId": "619d6efc-0c49-47b2-8833-728890206e59"
      },
      "outputs": [
        {
          "output_type": "execute_result",
          "data": {
            "text/plain": [
              "array([[0.96514463, 0.25115896, 0.4002925 , 0.9293295 , 0.37117879],\n",
              "       [0.18002727, 0.57730966, 0.42064035, 0.19225827, 0.66554406],\n",
              "       [0.87077441, 0.99408196, 0.27689858, 0.83452723, 0.70482244]])"
            ]
          },
          "metadata": {},
          "execution_count": 11
        }
      ],
      "source": [
        "# Create a random array of floats between 0 & 1 of shape (3, 5)\n",
        "arrrand2 = np.random.rand(3,5)\n",
        "arrrand2"
      ]
    },
    {
      "cell_type": "code",
      "execution_count": null,
      "metadata": {
        "id": "mwdh0jtcACtB",
        "colab": {
          "base_uri": "https://localhost:8080/"
        },
        "outputId": "281bf5f3-2e31-4c5f-8263-81143eb75af6"
      },
      "outputs": [
        {
          "output_type": "execute_result",
          "data": {
            "text/plain": [
              "array([[3.74540119, 9.50714306, 7.31993942, 5.98658484, 1.5601864 ,\n",
              "        1.5599452 ],\n",
              "       [0.58083612, 8.66176146, 6.01115012, 7.08072578, 0.20584494,\n",
              "        9.69909852],\n",
              "       [8.32442641, 2.12339111, 1.81824967, 1.8340451 , 3.04242243,\n",
              "        5.24756432],\n",
              "       [4.31945019, 2.9122914 , 6.11852895, 1.39493861, 2.92144649,\n",
              "        3.66361843]])"
            ]
          },
          "metadata": {},
          "execution_count": 12
        }
      ],
      "source": [
        "# Set the random seed to 42\n",
        "np.random.seed(42)\n",
        "\n",
        "# Create a random array of numbers between 0 & 10 of size (4, 6)\n",
        "arrrand3 = np.random.uniform(0,10,(4,6))\n",
        "arrrand3"
      ]
    },
    {
      "cell_type": "markdown",
      "metadata": {
        "id": "yqcDjgWvACtB"
      },
      "source": [
        "Run the cell above again, what happens?\n",
        "\n",
        "Are the numbers in the array different or the same? Why do think this is?"
      ]
    },
    {
      "cell_type": "code",
      "execution_count": null,
      "metadata": {
        "id": "Id3zn6IIACtC",
        "colab": {
          "base_uri": "https://localhost:8080/"
        },
        "outputId": "aff9dffa-b648-4b1a-dc63-ad82677574fb"
      },
      "outputs": [
        {
          "output_type": "execute_result",
          "data": {
            "text/plain": [
              "array([1.30949669, 1.41805371, 1.58546434, 1.87904903, 2.09834411,\n",
              "       2.53471711, 2.79706404, 3.32901983, 3.74152392, 4.96137244,\n",
              "       5.10462986, 5.45659219, 5.62810995, 6.33173112, 6.46790367,\n",
              "       7.15809724, 8.06658365, 8.27557613, 9.18388362, 9.53996984,\n",
              "       9.6906883 ])"
            ]
          },
          "metadata": {},
          "execution_count": 13
        }
      ],
      "source": [
        "# Create an array of random numbers between 1 & 10 of size (3, 7)\n",
        "# and save it to a variable\n",
        "arrrand4 = np.random.uniform(1,10,(3,7))\n",
        "#arrrand4\n",
        "\n",
        "# Find the unique numbers in the array you just created\n",
        "uniq = np.unique(arrrand4)\n",
        "uniq"
      ]
    },
    {
      "cell_type": "code",
      "execution_count": null,
      "metadata": {
        "id": "Jr0MGF5WACtC",
        "colab": {
          "base_uri": "https://localhost:8080/"
        },
        "outputId": "35565bb2-ef9a-4628-e489-5e0e36d902c5"
      },
      "outputs": [
        {
          "output_type": "execute_result",
          "data": {
            "text/plain": [
              "array([5.10462986, 8.06658365, 2.79706404, 5.62810995, 6.33173112,\n",
              "       1.41805371, 6.46790367])"
            ]
          },
          "metadata": {},
          "execution_count": 14
        }
      ],
      "source": [
        "# Find the 0'th index of the latest array you created\n",
        "arrrand4[0]"
      ]
    },
    {
      "cell_type": "code",
      "execution_count": null,
      "metadata": {
        "id": "J3iS3fiyACtC",
        "colab": {
          "base_uri": "https://localhost:8080/"
        },
        "outputId": "0b57283b-8bf4-4bef-b07b-b8f42e1caaad"
      },
      "outputs": [
        {
          "output_type": "execute_result",
          "data": {
            "text/plain": [
              "array([[5.10462986, 8.06658365, 2.79706404, 5.62810995, 6.33173112,\n",
              "        1.41805371, 6.46790367],\n",
              "       [2.53471711, 1.58546434, 9.53996984, 9.6906883 , 8.27557613,\n",
              "        3.74152392, 1.87904903]])"
            ]
          },
          "metadata": {},
          "execution_count": 15
        }
      ],
      "source": [
        "# Get the first 2 rows of latest array you created\n",
        "arrrand4[0:2]"
      ]
    },
    {
      "cell_type": "code",
      "execution_count": null,
      "metadata": {
        "id": "zUKkExTrACtC",
        "colab": {
          "base_uri": "https://localhost:8080/"
        },
        "outputId": "3faccbf5-7219-4d18-84d9-4e82acc83389"
      },
      "outputs": [
        {
          "output_type": "execute_result",
          "data": {
            "text/plain": [
              "array([[5.10462986, 8.06658365],\n",
              "       [2.53471711, 1.58546434]])"
            ]
          },
          "metadata": {},
          "execution_count": 16
        }
      ],
      "source": [
        "# Get the first 2 values of the first 2 rows of the latest array\n",
        "arrrand4[0:2,0:2]"
      ]
    },
    {
      "cell_type": "code",
      "execution_count": null,
      "metadata": {
        "id": "tedh9e9nACtD",
        "colab": {
          "base_uri": "https://localhost:8080/"
        },
        "outputId": "c8075037-1566-4d84-e2f1-0d12cd84a531"
      },
      "outputs": [
        {
          "output_type": "execute_result",
          "data": {
            "text/plain": [
              "array([[6.62522284, 3.11711076, 5.20068021, 5.46710279, 1.84854456],\n",
              "       [9.69584628, 7.75132823, 9.39498942, 8.9482735 , 5.97899979],\n",
              "       [9.21874235, 0.88492502, 1.95982862, 0.45227289, 3.25330331]])"
            ]
          },
          "metadata": {},
          "execution_count": 17
        }
      ],
      "source": [
        "# Create a random array of numbers between 0 & 10 and an array of ones\n",
        "# both of size (3, 5), save them both to variables\n",
        "arrrand5 = np.random.uniform(0,10,(3,5))\n",
        "arrrand5"
      ]
    },
    {
      "cell_type": "code",
      "execution_count": null,
      "metadata": {
        "id": "Bui1Tmo3ACtD",
        "colab": {
          "base_uri": "https://localhost:8080/"
        },
        "outputId": "4660353b-8acf-4f3a-81e0-21e39eaf7e82"
      },
      "outputs": [
        {
          "output_type": "execute_result",
          "data": {
            "text/plain": [
              "array([[ 7.59036748,  3.36826972,  5.60097271,  6.39643229,  2.21972334],\n",
              "       [ 9.87587355,  8.32863789,  9.81562977,  9.14053177,  6.64454385],\n",
              "       [10.08951676,  1.87900698,  2.23672721,  1.28680012,  3.95812575]])"
            ]
          },
          "metadata": {},
          "execution_count": 18
        }
      ],
      "source": [
        "# Add the two arrays together\n",
        "arrrand2+arrrand5"
      ]
    },
    {
      "cell_type": "code",
      "execution_count": null,
      "metadata": {
        "id": "CtzeqRwEACtD",
        "colab": {
          "base_uri": "https://localhost:8080/"
        },
        "outputId": "e6680904-075f-4cec-c098-bf231c1a9171"
      },
      "outputs": [
        {
          "output_type": "execute_result",
          "data": {
            "text/plain": [
              "array([[1., 1., 1.],\n",
              "       [1., 1., 1.],\n",
              "       [1., 1., 1.],\n",
              "       [1., 1., 1.],\n",
              "       [1., 1., 1.]])"
            ]
          },
          "metadata": {},
          "execution_count": 19
        }
      ],
      "source": [
        "# Create another array of ones of shape (5, 3)\n",
        "arrone2 = np.ones((5,3))\n",
        "arrone2"
      ]
    },
    {
      "cell_type": "code",
      "execution_count": null,
      "metadata": {
        "id": "uzl0f5fUACtD",
        "colab": {
          "base_uri": "https://localhost:8080/"
        },
        "outputId": "b3e451d0-06ea-45e9-b58a-3db2fe5f0973"
      },
      "outputs": [
        {
          "output_type": "execute_result",
          "data": {
            "text/plain": [
              "array([[ 7.62522284, 10.69584628, 10.21874235],\n",
              "       [ 4.11711076,  8.75132823,  1.88492502],\n",
              "       [ 6.20068021, 10.39498942,  2.95982862],\n",
              "       [ 6.46710279,  9.9482735 ,  1.45227289],\n",
              "       [ 2.84854456,  6.97899979,  4.25330331]])"
            ]
          },
          "metadata": {},
          "execution_count": 20
        }
      ],
      "source": [
        "# Try add the array of ones and the other most recent array together\n",
        "arrone2+arrrand5.T # Can be fixed by taking transpose of the second matrix"
      ]
    },
    {
      "cell_type": "markdown",
      "metadata": {
        "id": "9ZogUP2XACtE"
      },
      "source": [
        "When you try the last cell, it produces an error. Why do think this is?\n",
        "\n",
        "How would you fix it?"
      ]
    },
    {
      "cell_type": "code",
      "execution_count": null,
      "metadata": {
        "id": "7XCnsBzPACtE",
        "colab": {
          "base_uri": "https://localhost:8080/"
        },
        "outputId": "61baf95c-ead1-4dc3-dba1-d73f73a8a7f3"
      },
      "outputs": [
        {
          "output_type": "execute_result",
          "data": {
            "text/plain": [
              "array([[1., 1., 1., 1., 1.],\n",
              "       [1., 1., 1., 1., 1.],\n",
              "       [1., 1., 1., 1., 1.]])"
            ]
          },
          "metadata": {},
          "execution_count": 21
        }
      ],
      "source": [
        "# Create another array of ones of shape (3, 5)\n",
        "arrone3 = np.ones((3,5))\n",
        "arrone3"
      ]
    },
    {
      "cell_type": "code",
      "execution_count": null,
      "metadata": {
        "id": "WCdBN0QQACtE",
        "colab": {
          "base_uri": "https://localhost:8080/"
        },
        "outputId": "afd5f5aa-5870-4c5a-d964-9238d21fe3d0"
      },
      "outputs": [
        {
          "output_type": "execute_result",
          "data": {
            "text/plain": [
              "array([[-5.62522284, -2.11711076, -4.20068021, -4.46710279, -0.84854456],\n",
              "       [-8.69584628, -6.75132823, -8.39498942, -7.9482735 , -4.97899979],\n",
              "       [-8.21874235,  0.11507498, -0.95982862,  0.54772711, -2.25330331]])"
            ]
          },
          "metadata": {},
          "execution_count": 22
        }
      ],
      "source": [
        "# Subtract the new array of ones from the other most recent array\n",
        "arrone3 - arrrand5"
      ]
    },
    {
      "cell_type": "code",
      "execution_count": null,
      "metadata": {
        "id": "IuYgO27AACtE",
        "colab": {
          "base_uri": "https://localhost:8080/"
        },
        "outputId": "a165d19d-d78d-437e-d584-bed908e429d5"
      },
      "outputs": [
        {
          "output_type": "execute_result",
          "data": {
            "text/plain": [
              "array([[6.62522284, 3.11711076, 5.20068021, 5.46710279, 1.84854456],\n",
              "       [9.69584628, 7.75132823, 9.39498942, 8.9482735 , 5.97899979],\n",
              "       [9.21874235, 0.88492502, 1.95982862, 0.45227289, 3.25330331]])"
            ]
          },
          "metadata": {},
          "execution_count": 23
        }
      ],
      "source": [
        "# Multiply the ones array with the latest array\n",
        "arrone3 * arrrand5"
      ]
    },
    {
      "cell_type": "code",
      "execution_count": null,
      "metadata": {
        "id": "Cu05xcCOACtF",
        "colab": {
          "base_uri": "https://localhost:8080/"
        },
        "outputId": "409f1667-0ea8-4edb-f67b-5a75282fc169"
      },
      "outputs": [
        {
          "output_type": "execute_result",
          "data": {
            "text/plain": [
              "array([[43.89357773,  9.7163795 , 27.04707467, 29.88921295,  3.41711697],\n",
              "       [94.00943504, 60.08308939, 88.26582612, 80.07159871, 35.74843847],\n",
              "       [84.98521052,  0.78309229,  3.84092824,  0.20455077, 10.58398241]])"
            ]
          },
          "metadata": {},
          "execution_count": 24
        }
      ],
      "source": [
        "# Take the latest array to the power of 2 using '**'\n",
        "arrrand5**2"
      ]
    },
    {
      "cell_type": "code",
      "execution_count": null,
      "metadata": {
        "id": "yiTwmy25ACtF",
        "colab": {
          "base_uri": "https://localhost:8080/"
        },
        "outputId": "ccb50f7c-455d-467d-eb01-e78ef97b850e"
      },
      "outputs": [
        {
          "output_type": "execute_result",
          "data": {
            "text/plain": [
              "array([[43.89357773,  9.7163795 , 27.04707467, 29.88921295,  3.41711697],\n",
              "       [94.00943504, 60.08308939, 88.26582612, 80.07159871, 35.74843847],\n",
              "       [84.98521052,  0.78309229,  3.84092824,  0.20455077, 10.58398241]])"
            ]
          },
          "metadata": {},
          "execution_count": 25
        }
      ],
      "source": [
        "# Do the same thing with np.square()\n",
        "np.square(arrrand5)"
      ]
    },
    {
      "cell_type": "code",
      "execution_count": null,
      "metadata": {
        "id": "RI42VHzUACtG",
        "colab": {
          "base_uri": "https://localhost:8080/"
        },
        "outputId": "45b6e3f5-9cdb-4d9b-819e-18813d38143f"
      },
      "outputs": [
        {
          "output_type": "execute_result",
          "data": {
            "text/plain": [
              "5.319811371724394"
            ]
          },
          "metadata": {},
          "execution_count": 26
        }
      ],
      "source": [
        "# Find the mean of the latest array using np.mean()\n",
        "np.mean(arrrand5)"
      ]
    },
    {
      "cell_type": "code",
      "execution_count": null,
      "metadata": {
        "id": "BG-fHiP-ACtG",
        "colab": {
          "base_uri": "https://localhost:8080/"
        },
        "outputId": "4016c016-c74e-4fe5-a4ed-dcfcebb4afb3"
      },
      "outputs": [
        {
          "output_type": "execute_result",
          "data": {
            "text/plain": [
              "9.695846277645586"
            ]
          },
          "metadata": {},
          "execution_count": 27
        }
      ],
      "source": [
        "# Find the maximum of the latest array using np.max()\n",
        "np.max(arrrand5)"
      ]
    },
    {
      "cell_type": "code",
      "execution_count": null,
      "metadata": {
        "id": "p6e4gkFeACtG",
        "colab": {
          "base_uri": "https://localhost:8080/"
        },
        "outputId": "b3ae8ffa-7532-4b77-c085-cc06e7dd7159"
      },
      "outputs": [
        {
          "output_type": "execute_result",
          "data": {
            "text/plain": [
              "0.45227288910538066"
            ]
          },
          "metadata": {},
          "execution_count": 28
        }
      ],
      "source": [
        "# Find the minimum of the latest array using np.min()\n",
        "np.min(arrrand5)"
      ]
    },
    {
      "cell_type": "code",
      "execution_count": null,
      "metadata": {
        "id": "4fenCCh3ACtI",
        "colab": {
          "base_uri": "https://localhost:8080/"
        },
        "outputId": "78fd7c6d-a896-44a1-eaa6-c615b2997e24"
      },
      "outputs": [
        {
          "output_type": "execute_result",
          "data": {
            "text/plain": [
              "3.141481797893965"
            ]
          },
          "metadata": {},
          "execution_count": 29
        }
      ],
      "source": [
        "# Find the standard deviation of the latest array\n",
        "np.std(arrrand5)"
      ]
    },
    {
      "cell_type": "code",
      "execution_count": null,
      "metadata": {
        "id": "bbWu9_6sACtI",
        "colab": {
          "base_uri": "https://localhost:8080/"
        },
        "outputId": "673a59e6-c82f-45e1-910b-80e3a98a1ae3"
      },
      "outputs": [
        {
          "output_type": "execute_result",
          "data": {
            "text/plain": [
              "9.868907886499098"
            ]
          },
          "metadata": {},
          "execution_count": 30
        }
      ],
      "source": [
        "# Find the variance of the latest array\n",
        "np.var(arrrand5)"
      ]
    },
    {
      "cell_type": "code",
      "execution_count": null,
      "metadata": {
        "id": "bW_BoHz-ACtJ",
        "colab": {
          "base_uri": "https://localhost:8080/"
        },
        "outputId": "2afa8d9d-ff6e-46e8-ee73-9dd5a98fad54"
      },
      "outputs": [
        {
          "output_type": "execute_result",
          "data": {
            "text/plain": [
              "array([[[6.62522284],\n",
              "        [3.11711076],\n",
              "        [5.20068021],\n",
              "        [5.46710279],\n",
              "        [1.84854456]],\n",
              "\n",
              "       [[9.69584628],\n",
              "        [7.75132823],\n",
              "        [9.39498942],\n",
              "        [8.9482735 ],\n",
              "        [5.97899979]],\n",
              "\n",
              "       [[9.21874235],\n",
              "        [0.88492502],\n",
              "        [1.95982862],\n",
              "        [0.45227289],\n",
              "        [3.25330331]]])"
            ]
          },
          "metadata": {},
          "execution_count": 31
        }
      ],
      "source": [
        "# Reshape the latest array to (3, 5, 1)\n",
        "arrrand5.reshape(3,5,1)"
      ]
    },
    {
      "cell_type": "code",
      "execution_count": null,
      "metadata": {
        "id": "vsaDmfWDACtK",
        "colab": {
          "base_uri": "https://localhost:8080/"
        },
        "outputId": "b550e78e-8642-434e-af24-79f9cd7c9379"
      },
      "outputs": [
        {
          "output_type": "execute_result",
          "data": {
            "text/plain": [
              "array([[6.62522284, 9.69584628, 9.21874235],\n",
              "       [3.11711076, 7.75132823, 0.88492502],\n",
              "       [5.20068021, 9.39498942, 1.95982862],\n",
              "       [5.46710279, 8.9482735 , 0.45227289],\n",
              "       [1.84854456, 5.97899979, 3.25330331]])"
            ]
          },
          "metadata": {},
          "execution_count": 32
        }
      ],
      "source": [
        "# Transpose the latest array\n",
        "arrrand5.T"
      ]
    },
    {
      "cell_type": "markdown",
      "metadata": {
        "id": "IhWJ4WS1ACtK"
      },
      "source": [
        "What does the transpose do?"
      ]
    },
    {
      "cell_type": "code",
      "execution_count": null,
      "metadata": {
        "id": "hKVUkk4dACtL",
        "colab": {
          "base_uri": "https://localhost:8080/"
        },
        "outputId": "b29125b0-ff91-456b-890d-10eb6a364b99"
      },
      "outputs": [
        {
          "output_type": "stream",
          "name": "stdout",
          "text": [
            "[[1 4 7]\n",
            " [9 8 8]\n",
            " [0 8 6]] \n",
            "\n",
            " [[8 7]\n",
            " [0 7]\n",
            " [7 2]]\n"
          ]
        }
      ],
      "source": [
        "# Create two arrays of random integers between 0 to 10\n",
        "# one of size (3, 3) the other of size (3, 2)\n",
        "arrint1 = np.random.randint(0,10,9).reshape(3,3)\n",
        "arrint2 = np.random.randint(0,10,6).reshape(3,2)\n",
        "print(arrint1,\"\\n\\n\",arrint2)"
      ]
    },
    {
      "cell_type": "code",
      "execution_count": null,
      "metadata": {
        "id": "YBgckmJnACtL",
        "colab": {
          "base_uri": "https://localhost:8080/"
        },
        "outputId": "a2df23cf-6110-449f-8139-6acfc8730075"
      },
      "outputs": [
        {
          "output_type": "execute_result",
          "data": {
            "text/plain": [
              "array([[ 57,  49],\n",
              "       [128, 135],\n",
              "       [ 42,  68]])"
            ]
          },
          "metadata": {},
          "execution_count": 34
        }
      ],
      "source": [
        "# Perform a dot product on the two newest arrays you created\n",
        "np.dot(arrint1,arrint2)"
      ]
    },
    {
      "cell_type": "code",
      "execution_count": null,
      "metadata": {
        "id": "6Q_LzNzdACtL",
        "colab": {
          "base_uri": "https://localhost:8080/"
        },
        "outputId": "02755e84-456f-428b-fa3a-65e8fb3ff7bd"
      },
      "outputs": [
        {
          "output_type": "stream",
          "name": "stdout",
          "text": [
            "[[0 7 2]\n",
            " [2 0 4]\n",
            " [9 6 9]\n",
            " [8 6 8]] \n",
            "\n",
            " [[7 1 0]\n",
            " [6 6 7]\n",
            " [4 2 7]\n",
            " [5 2 0]]\n"
          ]
        }
      ],
      "source": [
        "# Create two arrays of random integers between 0 to 10\n",
        "# both of size (4, 3)\n",
        "arrint1 = np.random.randint(0,10,12).reshape(4,3)\n",
        "arrint2 = np.random.randint(0,10,12).reshape(4,3)\n",
        "print(arrint1,\"\\n\\n\",arrint2)"
      ]
    },
    {
      "cell_type": "code",
      "execution_count": null,
      "metadata": {
        "id": "E6SI3FJfACtL"
      },
      "outputs": [],
      "source": [
        "# Perform a dot product on the two newest arrays you created\n",
        "# np.dot(arrint1,arrint2)"
      ]
    },
    {
      "cell_type": "markdown",
      "metadata": {
        "id": "JotqSwEaACtL"
      },
      "source": [
        "It doesn't work. How would you fix it?"
      ]
    },
    {
      "cell_type": "code",
      "execution_count": null,
      "metadata": {
        "id": "9TBCUke8ACtL",
        "colab": {
          "base_uri": "https://localhost:8080/"
        },
        "outputId": "ef28214c-97bf-4f84-dd7f-85d8cb92ffdc"
      },
      "outputs": [
        {
          "output_type": "execute_result",
          "data": {
            "text/plain": [
              "array([[  7,  56,  28,  14],\n",
              "       [ 14,  40,  36,  10],\n",
              "       [ 69, 153, 111,  57],\n",
              "       [ 62, 140, 100,  52]])"
            ]
          },
          "metadata": {},
          "execution_count": 37
        }
      ],
      "source": [
        "# Take the latest two arrays, perform a transpose on one of them and then perform\n",
        "# a dot product on them both\n",
        "np.dot(arrint1,arrint2.T)"
      ]
    },
    {
      "cell_type": "code",
      "execution_count": null,
      "metadata": {
        "id": "m_xKyt56ACtM"
      },
      "outputs": [],
      "source": [
        "# Create two arrays of random integers between 0 & 10 of the same shape\n",
        "# and save them to variables\n",
        "arrint1 = np.random.randint(0,10,12).reshape(4,3)\n",
        "arrint2 = np.random.randint(0,10,12).reshape(4,3)"
      ]
    },
    {
      "cell_type": "code",
      "execution_count": null,
      "metadata": {
        "id": "6X26tgYwACtM",
        "colab": {
          "base_uri": "https://localhost:8080/"
        },
        "outputId": "8ac6a98f-be8d-4af2-b4d9-2c43bc2babf0"
      },
      "outputs": [
        {
          "output_type": "execute_result",
          "data": {
            "text/plain": [
              "array([[False,  True, False],\n",
              "       [False, False,  True],\n",
              "       [False,  True,  True],\n",
              "       [ True,  True,  True]])"
            ]
          },
          "metadata": {},
          "execution_count": 39
        }
      ],
      "source": [
        "# Compare the two arrays with '>'\n",
        "arrint1 > arrint2"
      ]
    },
    {
      "cell_type": "markdown",
      "metadata": {
        "id": "9rcNmAusACtM"
      },
      "source": [
        "What happens when you compare the arrays with `>`?"
      ]
    },
    {
      "cell_type": "code",
      "execution_count": null,
      "metadata": {
        "id": "sCqARkcMACtM",
        "colab": {
          "base_uri": "https://localhost:8080/"
        },
        "outputId": "cc0414b6-f9f6-4443-eef4-6180d6cb4c50"
      },
      "outputs": [
        {
          "output_type": "execute_result",
          "data": {
            "text/plain": [
              "array([[False,  True, False],\n",
              "       [False,  True,  True],\n",
              "       [ True,  True,  True],\n",
              "       [ True,  True,  True]])"
            ]
          },
          "metadata": {},
          "execution_count": 40
        }
      ],
      "source": [
        "# Compare the two arrays with '>='\n",
        "arrint1 >= arrint2"
      ]
    },
    {
      "cell_type": "code",
      "execution_count": null,
      "metadata": {
        "id": "GVjs5U_5ACtM",
        "colab": {
          "base_uri": "https://localhost:8080/"
        },
        "outputId": "63672854-2276-4760-e1a8-06d0e6a9f432"
      },
      "outputs": [
        {
          "output_type": "execute_result",
          "data": {
            "text/plain": [
              "array([[False, False, False],\n",
              "       [False, False,  True],\n",
              "       [False, False,  True],\n",
              "       [ True,  True, False]])"
            ]
          },
          "metadata": {},
          "execution_count": 41
        }
      ],
      "source": [
        "# Find which elements of the first array are greater than 7\n",
        "arrint1 > 7"
      ]
    },
    {
      "cell_type": "code",
      "execution_count": null,
      "metadata": {
        "id": "CFVYeteGACtM",
        "colab": {
          "base_uri": "https://localhost:8080/"
        },
        "outputId": "66c6ebe8-4b93-4196-eaec-2fb9789a8967"
      },
      "outputs": [
        {
          "output_type": "execute_result",
          "data": {
            "text/plain": [
              "array([[False, False, False],\n",
              "       [False,  True, False],\n",
              "       [ True, False, False],\n",
              "       [False, False, False]])"
            ]
          },
          "metadata": {},
          "execution_count": 42
        }
      ],
      "source": [
        "# Which parts of each array are equal? (try using '==')\n",
        "arrint1 == arrint2"
      ]
    },
    {
      "cell_type": "code",
      "execution_count": null,
      "metadata": {
        "id": "20IrUaKFACtM",
        "colab": {
          "base_uri": "https://localhost:8080/"
        },
        "outputId": "f5eb7930-5a83-4898-bc54-62580e18d3d9"
      },
      "outputs": [
        {
          "output_type": "execute_result",
          "data": {
            "text/plain": [
              "array([[2, 2, 4],\n",
              "       [0, 4, 9],\n",
              "       [6, 6, 8],\n",
              "       [2, 9, 9]])"
            ]
          },
          "metadata": {},
          "execution_count": 43
        }
      ],
      "source": [
        "# Sort one of the arrays you just created in ascending order\n",
        "np.sort(arrint1)"
      ]
    },
    {
      "cell_type": "code",
      "execution_count": null,
      "metadata": {
        "id": "XFpFJXMtACtN",
        "colab": {
          "base_uri": "https://localhost:8080/"
        },
        "outputId": "30b557bc-f828-4dc2-a78b-7217cac329d0"
      },
      "outputs": [
        {
          "output_type": "execute_result",
          "data": {
            "text/plain": [
              "array([[0, 2, 1],\n",
              "       [0, 1, 2],\n",
              "       [0, 1, 2],\n",
              "       [2, 0, 1]])"
            ]
          },
          "metadata": {},
          "execution_count": 44
        }
      ],
      "source": [
        "# Sort the indexes of one of the arrays you just created\n",
        "index = np.argsort(arrint1)\n",
        "index"
      ]
    },
    {
      "cell_type": "code",
      "execution_count": null,
      "metadata": {
        "id": "RwEMZqkKACtN",
        "colab": {
          "base_uri": "https://localhost:8080/"
        },
        "outputId": "f5a3701e-7238-4b6d-dad6-c743d6574b74"
      },
      "outputs": [
        {
          "output_type": "execute_result",
          "data": {
            "text/plain": [
              "3"
            ]
          },
          "metadata": {},
          "execution_count": 45
        }
      ],
      "source": [
        "# Find the index with the maximum value in one of the arrays you've created\n",
        "max = np.argmax(arr1)\n",
        "max"
      ]
    },
    {
      "cell_type": "code",
      "execution_count": null,
      "metadata": {
        "id": "9mX9S_SYACtN",
        "colab": {
          "base_uri": "https://localhost:8080/"
        },
        "outputId": "24d851a8-0c42-4362-ac7a-b3fe0307f25b"
      },
      "outputs": [
        {
          "output_type": "execute_result",
          "data": {
            "text/plain": [
              "0"
            ]
          },
          "metadata": {},
          "execution_count": 46
        }
      ],
      "source": [
        "# Find the index with the minimum value in one of the arrays you've created\n",
        "min = np.argmin(arr1)\n",
        "min"
      ]
    },
    {
      "cell_type": "code",
      "execution_count": null,
      "metadata": {
        "id": "UjBoiMfpACtN",
        "colab": {
          "base_uri": "https://localhost:8080/"
        },
        "outputId": "bfc88c32-59d4-440b-9ed7-9cb70b15f06a"
      },
      "outputs": [
        {
          "output_type": "execute_result",
          "data": {
            "text/plain": [
              "array([1, 2, 2, 0])"
            ]
          },
          "metadata": {},
          "execution_count": 47
        }
      ],
      "source": [
        "# Find the indexes with the maximum values down the 1st axis (axis=1)\n",
        "# of one of the arrays you created\n",
        "max = np.argmax(arrint1,axis=1)\n",
        "max"
      ]
    },
    {
      "cell_type": "code",
      "execution_count": null,
      "metadata": {
        "id": "efRmG1aSACtN",
        "colab": {
          "base_uri": "https://localhost:8080/"
        },
        "outputId": "5902ee97-ec6d-44cb-d243-b41102d8ff65"
      },
      "outputs": [
        {
          "output_type": "execute_result",
          "data": {
            "text/plain": [
              "array([1, 0, 0])"
            ]
          },
          "metadata": {},
          "execution_count": 48
        }
      ],
      "source": [
        "# Find the indexes with the minimum values across the 0th axis (axis=0)\n",
        "# of one of the arrays you created\n",
        "min = np.argmin(arrint1,axis=0)\n",
        "min"
      ]
    },
    {
      "cell_type": "code",
      "execution_count": null,
      "metadata": {
        "id": "Y4nTKUMCACtN",
        "colab": {
          "base_uri": "https://localhost:8080/"
        },
        "outputId": "19c4ddbb-521f-485d-dbbe-9f83f1055050"
      },
      "outputs": [
        {
          "output_type": "execute_result",
          "data": {
            "text/plain": [
              "array([2.53303211, 4.89262947, 3.89474287, 3.04465356, 3.58523537])"
            ]
          },
          "metadata": {},
          "execution_count": 49
        }
      ],
      "source": [
        "# Create an array of normally distributed random numbers\n",
        "arrnormal = np.random.normal(4,1,5)\n",
        "arrnormal"
      ]
    },
    {
      "cell_type": "code",
      "execution_count": null,
      "metadata": {
        "id": "KXi5FyCKACtN",
        "colab": {
          "base_uri": "https://localhost:8080/"
        },
        "outputId": "6b81fb58-a768-4ef3-b744-fd523b64519e"
      },
      "outputs": [
        {
          "output_type": "execute_result",
          "data": {
            "text/plain": [
              "array([ 1.,  2.,  3.,  4.,  5.,  6.,  7.,  8.,  9., 10.])"
            ]
          },
          "metadata": {},
          "execution_count": 50
        }
      ],
      "source": [
        "# Create an array with 10 evenly spaced numbers between 1 and 100\n",
        "np.linspace(1,10,10)"
      ]
    },
    {
      "cell_type": "markdown",
      "metadata": {
        "id": "_D1fowA_ACtO"
      },
      "source": [
        "## Extensions\n",
        "\n",
        "For more exercises, check out the [NumPy quickstart tutorial](https://numpy.org/doc/stable/user/quickstart.html). A good practice would be to read through it and for the parts you find interesting, add them into the end of this notebook.\n",
        "\n",
        "Pay particular attention to the section on broadcasting. And most importantly, get hands-on with the code as much as possible. If in dobut, run the code, see what it does.\n",
        "\n",
        "The next place you could go is the [Stack Overflow page for the top questions and answers for NumPy](https://stackoverflow.com/questions/tagged/numpy?sort=MostVotes&edited=true). Often, you'll find some of the most common and useful NumPy functions here. Don't forget to play around with the filters! You'll likely find something helpful here.\n",
        "\n",
        "Finally, as always, remember, the best way to learn something new is to try it. And try it relentlessly. If you get interested in some kind of NumPy function, asking yourself, \"I wonder if NumPy could do that?\", go and find out."
      ]
    }
  ],
  "metadata": {
    "kernelspec": {
      "display_name": "Python 3",
      "language": "python",
      "name": "python3"
    },
    "language_info": {
      "codemirror_mode": {
        "name": "ipython",
        "version": 3
      },
      "file_extension": ".py",
      "mimetype": "text/x-python",
      "name": "python",
      "nbconvert_exporter": "python",
      "pygments_lexer": "ipython3",
      "version": "3.8.3"
    },
    "colab": {
      "provenance": []
    }
  },
  "nbformat": 4,
  "nbformat_minor": 0
}